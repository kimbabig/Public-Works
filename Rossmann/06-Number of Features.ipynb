{
 "cells": [
  {
   "cell_type": "code",
   "execution_count": null,
   "id": "837b44a1",
   "metadata": {},
   "outputs": [],
   "source": [
    "import pandas as pd\n",
    "import os \n",
    "import matplotlib.pyplot as plt\n",
    "import numpy as np "
   ]
  },
  {
   "cell_type": "code",
   "execution_count": null,
   "id": "fae1c0f0",
   "metadata": {},
   "outputs": [],
   "source": [
    "Rosmann_stores = [23,64,103,133,135,216,224,256,266,311,355,405,455,487,558,649,672,714,738,742,773,785,\n",
    "             830,870,880,899,937,978,1011,1069]"
   ]
  },
  {
   "cell_type": "code",
   "execution_count": null,
   "id": "83f15162",
   "metadata": {},
   "outputs": [],
   "source": [
    "corr_bsline = pd.read_csv(f'02-Results/FS/Store23/Correlation/correlation_df.csv')\n",
    "corr_bsline.drop(columns = 'all_features', inplace = True)\n",
    "disc_corr = {}\n",
    "for corr_col in corr_bsline.columns:\n",
    "    number_of_Features = []\n",
    "    for store in (Rosmann_stores):\n",
    "        corr_feat = pd.read_csv(f'02-Results/FS/Store{store}/Correlation/correlation_df.csv')\n",
    "        corr_feat.drop(columns = 'all_features', inplace = True)\n",
    "        corr_dic = {}\n",
    "\n",
    "        features = list(corr_feat[corr_col].fillna(0))\n",
    "        features = [x for x in features if x != 0]\n",
    "        number = len(features)\n",
    "        number_of_Features.append(number)\n",
    "    disc_corr[corr_col]=np.mean(number_of_Features)\n",
    "print(disc_corr)"
   ]
  },
  {
   "cell_type": "code",
   "execution_count": null,
   "id": "4fb824e4",
   "metadata": {},
   "outputs": [],
   "source": [
    "number_of_Features=[]\n",
    "for store in (Rosmann_stores):\n",
    "    BoGB_feat = pd.read_csv(f'02-Results/FS/Store{store}/Boruta-GB/borutaGB_df.csv')\n",
    "    features = list(BoGB_feat['important'].fillna(0))\n",
    "    features = [x for x in features if x != 0]\n",
    "    number = len(features)\n",
    "    number_of_Features.append(number)\n",
    "print(np.mean(number_of_Features))"
   ]
  },
  {
   "cell_type": "code",
   "execution_count": null,
   "id": "05d33aec",
   "metadata": {},
   "outputs": [],
   "source": [
    "number_of_Features=[]\n",
    "for store in (Rosmann_stores):\n",
    "    BoGB_feat = pd.read_csv(f'02-Results/FS/Store{store}/Boruta-RF/borutaRF_df.csv')\n",
    "    features = list(BoGB_feat['important'].fillna(0))\n",
    "    features = [x for x in features if x != 0]\n",
    "    number = len(features)\n",
    "    number_of_Features.append(number)\n",
    "print(np.mean(number_of_Features))"
   ]
  },
  {
   "cell_type": "code",
   "execution_count": null,
   "id": "4c2fe2fc",
   "metadata": {},
   "outputs": [],
   "source": [
    "number_of_Features=[]\n",
    "for store in (Rosmann_stores):\n",
    "    BoSHAPGB_feat = pd.read_csv(f'02-Results/FS/Store{store}/BorutaSHAP-GB/borutaSHAPGB_df.csv')\n",
    "    features = list(BoSHAPGB_feat['important'].fillna(0))\n",
    "    features = [x for x in features if x != 0]\n",
    "    number = len(features)\n",
    "    number_of_Features.append(number)\n",
    "print(np.mean(number_of_Features))"
   ]
  },
  {
   "cell_type": "code",
   "execution_count": null,
   "id": "dbd9d689",
   "metadata": {},
   "outputs": [],
   "source": [
    "number_of_Features=[]\n",
    "for store in (Rosmann_stores):\n",
    "    BoSHAPGB_feat = pd.read_csv(f'02-Results/FS/Store{store}/BorutaSHAP-RF/borutaSHAPRF_df.csv')\n",
    "    features = list(BoSHAPGB_feat['important'].fillna(0))\n",
    "    features = [x for x in features if x != 0]\n",
    "    number = len(features)\n",
    "    number_of_Features.append(number)\n",
    "print(np.mean(number_of_Features))"
   ]
  },
  {
   "cell_type": "code",
   "execution_count": null,
   "id": "7b8d7bf5",
   "metadata": {},
   "outputs": [],
   "source": [
    "number_of_Features=[]\n",
    "for store in (Rosmann_stores):\n",
    "    IMV_Tensor_feats = pd.read_csv(f'02-Results/FS/Store{store}/IMV-LSTM/IMV_Tensor.csv')\n",
    "    features = list(IMV_Tensor_feats['features'].loc[IMV_Tensor_feats['Importance'] > 0.045])\n",
    "    number = len(features)\n",
    "    number_of_Features.append(number)\n",
    "print(np.mean(number_of_Features))"
   ]
  },
  {
   "cell_type": "code",
   "execution_count": null,
   "id": "1cdb951a",
   "metadata": {},
   "outputs": [],
   "source": [
    "disc_LIME = {}\n",
    "LIME_inst_th = [0.007,0.008,0.009,0.01]\n",
    "for threshold in LIME_inst_th:\n",
    "    number_of_Features=[]\n",
    "    for store in (Rosmann_stores):        \n",
    "        inst_LSTMLIME = pd.read_csv(f'02-Results/FS/Store{store}/LIME-LSTM/LIME-LSTM.csv')\n",
    "        features = list(inst_LSTMLIME['Features'].loc[inst_LSTMLIME['LIME_value'] > threshold])\n",
    "        number = len(features)\n",
    "        number_of_Features.append(number)\n",
    "    disc_LIME[threshold]=np.mean(number_of_Features)\n",
    "print(disc_LIME)"
   ]
  },
  {
   "cell_type": "code",
   "execution_count": null,
   "id": "f0efb7f3",
   "metadata": {},
   "outputs": [],
   "source": [
    "disc_SHAP = {}\n",
    "SHAP_inst_th = [0.05,0.1,0.15,0.2]\n",
    "for threshold in SHAP_inst_th:\n",
    "    number_of_Features=[]\n",
    "    for store in (Rosmann_stores):        \n",
    "        inst_SHAPLSTM = pd.read_csv(f'02-Results/FS/Store{store}/SHAP-LSTM/inst_SHAP_LSTM.csv')\n",
    "        features = list(inst_SHAPLSTM['feature_name'].loc[inst_SHAPLSTM['max_shap_value'] > threshold])\n",
    "        number = len(features)\n",
    "        number_of_Features.append(number)\n",
    "    disc_SHAP[threshold]=np.mean(number_of_Features)\n",
    "print(disc_SHAP)"
   ]
  },
  {
   "cell_type": "code",
   "execution_count": null,
   "id": "a006b477",
   "metadata": {},
   "outputs": [],
   "source": [
    "disc_SHAPavg = {}\n",
    "SHAP_avg_th = [0.01,0.02,0.03,0.04]\n",
    "for threshold in SHAP_avg_th:\n",
    "    number_of_Features=[]\n",
    "    for store in (Rosmann_stores):        \n",
    "        avg_SHAPLSTM = pd.read_csv(f'02-Results/FS/Store{store}/SHAP-LSTM/avg_SHAP_LSTM.csv')\n",
    "        features = list(avg_SHAPLSTM['Unnamed: 0'].loc[avg_SHAPLSTM['Importance'] > threshold])\n",
    "        number = len(features)\n",
    "        number_of_Features.append(number)\n",
    "    disc_SHAPavg[threshold]=np.mean(number_of_Features)\n",
    "print(disc_SHAPavg)"
   ]
  },
  {
   "cell_type": "code",
   "execution_count": null,
   "id": "065a030a",
   "metadata": {},
   "outputs": [],
   "source": []
  }
 ],
 "metadata": {
  "kernelspec": {
   "display_name": "Python 3 (ipykernel)",
   "language": "python",
   "name": "python3"
  },
  "language_info": {
   "codemirror_mode": {
    "name": "ipython",
    "version": 3
   },
   "file_extension": ".py",
   "mimetype": "text/x-python",
   "name": "python",
   "nbconvert_exporter": "python",
   "pygments_lexer": "ipython3",
   "version": "3.9.13"
  }
 },
 "nbformat": 4,
 "nbformat_minor": 5
}
